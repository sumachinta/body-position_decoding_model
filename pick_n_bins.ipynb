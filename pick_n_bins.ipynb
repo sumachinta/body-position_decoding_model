{
 "cells": [
  {
   "cell_type": "code",
   "execution_count": null,
   "id": "3d785650",
   "metadata": {},
   "outputs": [],
   "source": [
    "### Code to test how many spike bins surrounding the current bin to select for decoding"
   ]
  },
  {
   "cell_type": "code",
   "execution_count": 1,
   "id": "c0d8cccd",
   "metadata": {},
   "outputs": [
    {
     "name": "stderr",
     "output_type": "stream",
     "text": [
      "C:\\ProgramData\\Anaconda3\\lib\\site-packages\\sklearn\\utils\\validation.py:37: DeprecationWarning: distutils Version classes are deprecated. Use packaging.version instead.\n",
      "  LARGE_SPARSE_SUPPORTED = LooseVersion(scipy_version) >= '0.14.0'\n"
     ]
    }
   ],
   "source": [
    "import numpy as np\n",
    "import scipy.io\n",
    "from pathlib import Path\n",
    "import pandas as pd\n",
    "from scipy.ndimage import gaussian_filter\n",
    "import matplotlib.pyplot as plt\n",
    "from functions import *"
   ]
  },
  {
   "cell_type": "code",
   "execution_count": 2,
   "id": "5882bbd5",
   "metadata": {},
   "outputs": [],
   "source": [
    "# Load .mat files\n",
    "data_path = Path('D:/MATLAB_Analysis/Pre+process/Fncs/Run_tuning/testing_model_helper_fns/whisker_position_decoding_model/github_files/raw_data/E40')\n",
    "params1 = scipy.io.loadmat(data_path / 'params.mat')\n",
    "run_speed = scipy.io.loadmat(data_path / 'run_speed.mat')['run_speed']\n",
    "SpikeTimes = scipy.io.loadmat(data_path / 'SpikeTimes.mat')['SpikeTimes']\n",
    "trial_times = scipy.io.loadmat(data_path / 'trial_times.mat')\n",
    "whisker_position = scipy.io.loadmat(data_path / 'whisker_position.mat')['whisker_position']\n",
    "endT = trial_times['endT'];\n",
    "startT = trial_times['startT'];\n",
    "params = params1['params']\n",
    "recording_endtime = params['recording_endtime'][0,0]\n",
    "recording_fps = params['recording_fps'][0,0]\n",
    "features = params['features'][0, 0]  #'features' is a field in actual_params\n",
    "fps = features['fps'][0, 0]  # 'fps' is a field in features\n",
    "vid_start_time = features['VidStartTime'][0, 0]  \n",
    "vid_end_time = features['VidEndTime'][0, 0]\n",
    "spike_params = params['spike'][0, 0]\n",
    "exp_no = params['exp_no'][0,0]\n",
    "Neuron_ID = spike_params['Neuron_ID'][0, 0]\n",
    "spikeno_thresh_units = spike_params['spikeno_thresh_units'][0, 0]\n",
    "stpt_amp_units = spike_params['stpt_amp_units'][0, 0]\n",
    "run_units = spike_params['run_units'][0, 0]\n",
    "phase_units = spike_params['phase_units'][0, 0]\n"
   ]
  },
  {
   "cell_type": "code",
   "execution_count": 3,
   "id": "8e0c14ae",
   "metadata": {},
   "outputs": [
    {
     "name": "stdout",
     "output_type": "stream",
     "text": [
      "R^2: 0.4055929409184176\n",
      "363\n",
      "R^2: 0.5969186515810047\n",
      "2476\n",
      "R^2: 0.6653661669239437\n",
      "1283\n",
      "R^2: 0.7026442066567644\n",
      "395\n",
      "R^2: 0.7219205696802546\n",
      "1104\n",
      "R^2: 0.7423138964152446\n",
      "1678\n",
      "R^2: 0.7524031120382997\n",
      "862\n",
      "R^2: 0.758767550098689\n",
      "554\n",
      "R^2: 0.7698768242376058\n",
      "1948\n"
     ]
    }
   ],
   "source": [
    "r2_test = np.zeros([len(np.arange(1,19,2))])\n",
    "k = 0\n",
    "bin_res = 0.1\n",
    "bins = np.arange(0, recording_endtime, bin_res)\n",
    " \n",
    "VidStartTime = np.array([time[0] for time in vid_start_time])\n",
    "VidEndTime = np.array([time[0] for time in vid_end_time])\n",
    "\n",
    "startT = trial_times['startT']\n",
    "endT = trial_times['endT']\n",
    "BOOL = [np.any((bin_value > startT) & (bin_value < endT)) for bin_value in bins]\n",
    "\n",
    "from functions import *\n",
    "speed_binned = get_features_in_timebins(bins, run_speed, fps, VidStartTime, VidEndTime)\n",
    "spike = np.array([np.histogram(SpikeTimes[n][0], bins)[0] / bin_res for n in range(Neuron_ID.shape[0])])\n",
    "\n",
    "# select neurons\n",
    "select_units = np.where(run_units)[0]   \n",
    "spike_select = spike[select_units, :]\n",
    "    \n",
    "for i in range(1,19,2):\n",
    "    \n",
    "    nBins = i#5  # has to be an odd number \n",
    "\n",
    "    # Decoding Locomotion speed\n",
    "    X_speed, output_speed, trial_start_idx, trial_end_idx = get_design_matrix(spike_select, speed_binned, BOOL, nBins-1)\n",
    "    #find_alpha_ridge_regression(X_speed,output_speed)\n",
    "    testdata_speed,preddata_speed,model_speed = perform_decoding(X_speed, output_speed, 1800)\n",
    "    r2_speed,_,corr_coeff_speed = get_errors(testdata_speed,preddata_speed)\n",
    "\n",
    "    # PLor example trial\n",
    "    t_sec = 10\n",
    "    ii = np.random.randint(len(output_speed)-t_sec*1/bin_res)\n",
    "    print(ii)\n",
    "    stop_idx = int(ii+t_sec*(1/bin_res))\n",
    "    x = np.arange(0,stop_idx-ii,1)*bin_res\n",
    "    speed_pred = model_speed.predict(X_speed)\n",
    "\n",
    "    plt.plot(x, output_speed[ii:stop_idx], label='actual',color = 'black', alpha=.5)\n",
    "    plt.plot(x, gaussian_filter(speed_pred[ii:stop_idx], sigma = 0), label='predicted')\n",
    "    plt.xlabel('time (s)')\n",
    "    plt.ylabel('run speed (cm/s)')\n",
    "    plt.ylim([0,65])\n",
    "    plt.title(f\" E-{exp_no[0][0]},bin_res={bin_res},nbins={nBins},R2={r2_speed}\")\n",
    "    plt.legend()\n",
    "    #plt.show()\n",
    "    np.where(np.round(speed_binned)==11)[0]\n",
    "    #path = data_path / f'run_trace E-{exp_no[0][0]},bin_res={bin_res},nbins={nBins},R2={r2_speed}.svg'\n",
    "    #plt.savefig(path, format='svg')\n",
    "    #plt.close()\n",
    "    r2_test[k] = r2_speed\n",
    "    k = k+1\n",
    "    "
   ]
  },
  {
   "cell_type": "code",
   "execution_count": 4,
   "id": "e9eda5d2",
   "metadata": {},
   "outputs": [
    {
     "data": {
      "image/png": "[encoded data removed]",
      "text/plain": [
       "<Figure size 432x288 with 1 Axes>"
      ]
     },
     "metadata": {
      "needs_background": "light"
     },
     "output_type": "display_data"
    }
   ],
   "source": [
    "x_steps = np.arange(1,19,2);\n",
    "plt.plot(x_steps,r2_test, label='100ms resolution')\n",
    "plt.axvline(9, color='k', linestyle='--')\n",
    "plt.xlabel('time(s)')\n",
    "plt.xticks(x_steps)\n",
    "plt.ylabel('R2 run speed')\n",
    "plt.legend()\n",
    "#plt.show()\n",
    "path = data_path /f'bins_decoding_run.svg'\n",
    "plt.savefig(path, format='svg')"
   ]
  },
  {
   "cell_type": "code",
   "execution_count": 5,
   "id": "2c539eb6",
   "metadata": {},
   "outputs": [
    {
     "name": "stdout",
     "output_type": "stream",
     "text": [
      "R^2: 0.36011278810971137\n",
      "10642\n",
      "R^2: 0.576657704053441\n",
      "14075\n",
      "R^2: 0.6486386585435074\n",
      "6828\n",
      "R^2: 0.6895815682308133\n",
      "5238\n",
      "R^2: 0.7187985461571653\n",
      "4329\n",
      "R^2: 0.7353433915753085\n",
      "6668\n",
      "R^2: 0.7496438703590379\n",
      "3637\n",
      "R^2: 0.7583837815941155\n",
      "17906\n",
      "R^2: 0.7658694507178687\n",
      "6587\n"
     ]
    }
   ],
   "source": [
    "r2_test_whisker = np.zeros([len(np.arange(1,19,2))])\n",
    "k = 0\n",
    "bin_res = 0.015\n",
    "bins = np.arange(0, recording_endtime, bin_res)\n",
    "BOOL = [np.any((bin_value > startT) & (bin_value < endT)) for bin_value in bins]\n",
    "\n",
    "whisker_binned = get_features_in_timebins(bins, whisker_position, fps, VidStartTime, VidEndTime)\n",
    "spike = np.array([np.histogram(SpikeTimes[n][0], bins)[0] / bin_res for n in range(Neuron_ID.shape[0])])\n",
    "\n",
    "# select neurons\n",
    "select_units = np.where(np.logical_or(stpt_amp_units,phase_units))[0]   \n",
    "spike_select = spike[select_units, :]\n",
    "    \n",
    "for i in range(1,19,2):\n",
    "    \n",
    "    nBins = i#5  # has to be an odd number \n",
    "\n",
    "    # Decoding Locomotion speed\n",
    "    X_whisker, output_whisker, trial_start_idx, trial_end_idx = get_design_matrix(spike_select, whisker_binned, BOOL, nBins-1)\n",
    "    #find_alpha_ridge_regression(X,output_whisker)\n",
    "    testdata_whisker,preddata_whisker,model_whisker = perform_decoding(X_whisker, output_whisker, 2700)\n",
    "    r2_whisker,_,corr_coeff_whisker = get_errors(testdata_whisker,preddata_whisker)\n",
    "\n",
    "    # PLor example trial\n",
    "    t_sec = 10\n",
    "    ii = np.random.randint(len(output_whisker)-t_sec*1/bin_res)\n",
    "    #print(ii)\n",
    "    stop_idx = int(ii+t_sec*(1/bin_res))\n",
    "    x = np.arange(0,stop_idx-ii,1)*bin_res\n",
    "    whisk_pred = model_whisker.predict(X_whisker)\n",
    "\n",
    "    plt.plot(x, output_whisker[ii:stop_idx], label='actual',color = 'black', alpha=.5)\n",
    "    plt.plot(x, gaussian_filter(whisk_pred[ii:stop_idx], sigma = 0), label='predicted')\n",
    "    plt.xlabel('time (s)')\n",
    "    plt.ylabel('whisker angle ($^0$)')\n",
    "    #plt.ylim([0,65])\n",
    "    plt.title(f\" E-{exp_no[0][0]},bin_res={bin_res},nbins={nBins},R2={r2_speed}\")\n",
    "    plt.legend()\n",
    "    #plt.show()\n",
    "    #path = data_path / f'whisker_trace E-{exp_no[0][0]},bin_res={bin_res},nbins={nBins},R2={r2_speed}.svg'\n",
    "    #plt.savefig(path, format='svg')\n",
    "    #plt.close()\n",
    "    r2_test_whisker[k] = r2_whisker\n",
    "    k = k+1\n",
    "    "
   ]
  },
  {
   "cell_type": "code",
   "execution_count": 6,
   "id": "115c713c",
   "metadata": {},
   "outputs": [
    {
     "data": {
      "image/png": "[encoded data removed]",
      "text/plain": [
       "<Figure size 432x288 with 1 Axes>"
      ]
     },
     "metadata": {
      "needs_background": "light"
     },
     "output_type": "display_data"
    }
   ],
   "source": [
    "x_steps = np.arange(1,19,2);\n",
    "plt.plot(x_steps,r2_test_whisker, label='15ms resolution')\n",
    "#plt.axvline(9, color='k', linestyle='--')\n",
    "plt.xlabel('time(s)')\n",
    "plt.xticks(x_steps)\n",
    "plt.ylabel('R2 whisker position')\n",
    "plt.legend()\n",
    "#plt.show()\n",
    "path = data_path /f'bins_decoding_whisk.svg'\n",
    "plt.savefig(path, format='svg')"
   ]
  }
 ],
 "metadata": {
  "@webio": {
   "lastCommId": null,
   "lastKernelId": null
  },
  "kernelspec": {
   "display_name": "Python 3",
   "language": "python",
   "name": "python3"
  },
  "language_info": {
   "codemirror_mode": {
    "name": "ipython",
    "version": 3
   },
   "file_extension": ".py",
   "mimetype": "text/x-python",
   "name": "python",
   "nbconvert_exporter": "python",
   "pygments_lexer": "ipython3",
   "version": "3.7.3"
  }
 },
 "nbformat": 4,
 "nbformat_minor": 5
}
